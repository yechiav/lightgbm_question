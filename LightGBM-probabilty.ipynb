{
 "cells": [
  {
   "cell_type": "code",
   "execution_count": 45,
   "metadata": {},
   "outputs": [],
   "source": [
    "import lightgbm\n",
    "import pandas as pd\n",
    "import numpy as np"
   ]
  },
  {
   "cell_type": "code",
   "execution_count": 46,
   "metadata": {},
   "outputs": [],
   "source": [
    "def make_class(length,name,thrshold,classes):\n",
    "    a = np.random.rand(length,1)\n",
    "    b = np.where(a>thrshold,classes[0],classes[1])\n",
    "    return pd.DataFrame(b,columns=[name])"
   ]
  },
  {
   "cell_type": "code",
   "execution_count": 47,
   "metadata": {},
   "outputs": [],
   "source": [
    "a = make_class(100000,'State',0.7,['NY','TX'])\n",
    "b = make_class(100000,'Phone',0.3,['Ios','Android'])"
   ]
  },
  {
   "cell_type": "code",
   "execution_count": 48,
   "metadata": {},
   "outputs": [],
   "source": [
    "df = pd.concat([a,b],ignore_index=True,axis=1)\n",
    "df.columns = ['State','Phone']"
   ]
  },
  {
   "cell_type": "code",
   "execution_count": 49,
   "metadata": {},
   "outputs": [
    {
     "data": {
      "text/html": [
       "<div>\n",
       "<style scoped>\n",
       "    .dataframe tbody tr th:only-of-type {\n",
       "        vertical-align: middle;\n",
       "    }\n",
       "\n",
       "    .dataframe tbody tr th {\n",
       "        vertical-align: top;\n",
       "    }\n",
       "\n",
       "    .dataframe thead th {\n",
       "        text-align: right;\n",
       "    }\n",
       "</style>\n",
       "<table border=\"1\" class=\"dataframe\">\n",
       "  <thead>\n",
       "    <tr style=\"text-align: right;\">\n",
       "      <th></th>\n",
       "      <th>State</th>\n",
       "      <th>Phone</th>\n",
       "    </tr>\n",
       "  </thead>\n",
       "  <tbody>\n",
       "    <tr>\n",
       "      <th>0</th>\n",
       "      <td>TX</td>\n",
       "      <td>Android</td>\n",
       "    </tr>\n",
       "    <tr>\n",
       "      <th>1</th>\n",
       "      <td>TX</td>\n",
       "      <td>Android</td>\n",
       "    </tr>\n",
       "  </tbody>\n",
       "</table>\n",
       "</div>"
      ],
      "text/plain": [
       "  State    Phone\n",
       "0    TX  Android\n",
       "1    TX  Android"
      ]
     },
     "execution_count": 49,
     "metadata": {},
     "output_type": "execute_result"
    }
   ],
   "source": [
    "df.head(2)"
   ]
  },
  {
   "cell_type": "code",
   "execution_count": 101,
   "metadata": {},
   "outputs": [],
   "source": [
    "# b = df.value_counts().keys()\n",
    "# mapper = dict(zip(list(b),np.random.rand(4,1).flatten().round(1)))\n",
    "# mapper"
   ]
  },
  {
   "cell_type": "code",
   "execution_count": 103,
   "metadata": {},
   "outputs": [
    {
     "data": {
      "text/plain": [
       "{('TX', 'Ios'): 0.3,\n",
       " ('NY', 'Ios'): 0.85,\n",
       " ('TX', 'Android'): 1.0,\n",
       " ('NY', 'Android'): 0.0}"
      ]
     },
     "execution_count": 103,
     "metadata": {},
     "output_type": "execute_result"
    }
   ],
   "source": [
    "mapper = {('TX', 'Ios'): 0.3,\n",
    "         ('NY', 'Ios'): 0.85,\n",
    "         ('TX', 'Android'): 1.0,\n",
    "         ('NY', 'Android'): 0.0}\n",
    "mapper"
   ]
  },
  {
   "cell_type": "code",
   "execution_count": 71,
   "metadata": {},
   "outputs": [],
   "source": [
    "df['odds']=df.agg(tuple, 1).map(mapper)"
   ]
  },
  {
   "cell_type": "code",
   "execution_count": 72,
   "metadata": {},
   "outputs": [],
   "source": [
    "df['label'] =np.where(df['odds']>np.random.rand(len(df['odds']),1).flatten(),1,0)"
   ]
  },
  {
   "cell_type": "code",
   "execution_count": 73,
   "metadata": {},
   "outputs": [
    {
     "data": {
      "text/plain": [
       "State  Phone  \n",
       "NY     Android    0.000000\n",
       "       Ios        0.845841\n",
       "TX     Android    1.000000\n",
       "       Ios        0.298000\n",
       "Name: label, dtype: float64"
      ]
     },
     "execution_count": 73,
     "metadata": {},
     "output_type": "execute_result"
    }
   ],
   "source": [
    "df.groupby(['State','Phone'])['label'].mean()"
   ]
  },
  {
   "cell_type": "code",
   "execution_count": 74,
   "metadata": {},
   "outputs": [
    {
     "data": {
      "text/html": [
       "<div>\n",
       "<style scoped>\n",
       "    .dataframe tbody tr th:only-of-type {\n",
       "        vertical-align: middle;\n",
       "    }\n",
       "\n",
       "    .dataframe tbody tr th {\n",
       "        vertical-align: top;\n",
       "    }\n",
       "\n",
       "    .dataframe thead th {\n",
       "        text-align: right;\n",
       "    }\n",
       "</style>\n",
       "<table border=\"1\" class=\"dataframe\">\n",
       "  <thead>\n",
       "    <tr style=\"text-align: right;\">\n",
       "      <th></th>\n",
       "      <th></th>\n",
       "      <th>mean</th>\n",
       "      <th>count</th>\n",
       "    </tr>\n",
       "    <tr>\n",
       "      <th>State</th>\n",
       "      <th>Phone</th>\n",
       "      <th></th>\n",
       "      <th></th>\n",
       "    </tr>\n",
       "  </thead>\n",
       "  <tbody>\n",
       "    <tr>\n",
       "      <th rowspan=\"2\" valign=\"top\">NY</th>\n",
       "      <th>Android</th>\n",
       "      <td>0.000000</td>\n",
       "      <td>8940</td>\n",
       "    </tr>\n",
       "    <tr>\n",
       "      <th>Ios</th>\n",
       "      <td>0.845841</td>\n",
       "      <td>21147</td>\n",
       "    </tr>\n",
       "    <tr>\n",
       "      <th rowspan=\"2\" valign=\"top\">TX</th>\n",
       "      <th>Android</th>\n",
       "      <td>1.000000</td>\n",
       "      <td>20970</td>\n",
       "    </tr>\n",
       "    <tr>\n",
       "      <th>Ios</th>\n",
       "      <td>0.298000</td>\n",
       "      <td>48943</td>\n",
       "    </tr>\n",
       "  </tbody>\n",
       "</table>\n",
       "</div>"
      ],
      "text/plain": [
       "                   mean  count\n",
       "State Phone                   \n",
       "NY    Android  0.000000   8940\n",
       "      Ios      0.845841  21147\n",
       "TX    Android  1.000000  20970\n",
       "      Ios      0.298000  48943"
      ]
     },
     "execution_count": 74,
     "metadata": {},
     "output_type": "execute_result"
    }
   ],
   "source": [
    "df.groupby(['State','Phone'])['label'].agg(['mean','count'])"
   ]
  },
  {
   "cell_type": "code",
   "execution_count": 75,
   "metadata": {},
   "outputs": [],
   "source": [
    "df=df.drop('odds',axis=1)"
   ]
  },
  {
   "cell_type": "code",
   "execution_count": 76,
   "metadata": {},
   "outputs": [],
   "source": [
    "y_train = df['label'].astype(\"bool\")\n",
    "X_train= df[['State','Phone']].copy()"
   ]
  },
  {
   "cell_type": "code",
   "execution_count": 77,
   "metadata": {},
   "outputs": [],
   "source": [
    "X_train=X_train.astype('category')"
   ]
  },
  {
   "cell_type": "code",
   "execution_count": 78,
   "metadata": {},
   "outputs": [],
   "source": [
    "train_data = lightgbm.Dataset(X_train, label=y_train,free_raw_data=False)"
   ]
  },
  {
   "cell_type": "code",
   "execution_count": 79,
   "metadata": {},
   "outputs": [
    {
     "data": {
      "text/plain": [
       "{'application': 'binary',\n",
       " 'metric': 'binary_logloss',\n",
       " 'num_iterations': 1,\n",
       " 'is_unbalance': 'false',\n",
       " 'boosting': 'rf',\n",
       " 'num_leaves': 16,\n",
       " 'bagging_freq': 1,\n",
       " 'bagging_fraction': 0.999,\n",
       " 'verbose': 5,\n",
       " 'min_split_gain': 1,\n",
       " 'min_child_samples': 1}"
      ]
     },
     "execution_count": 79,
     "metadata": {},
     "output_type": "execute_result"
    }
   ],
   "source": [
    " best_parameters = {\n",
    "    'application': 'binary',\n",
    "    'metric': 'binary_logloss',\n",
    "    'num_iterations': 1,\n",
    "    'is_unbalance': 'false',\n",
    "    'boosting': 'rf',\n",
    "    'num_leaves': 16,\n",
    "    \"bagging_freq\":1,\n",
    "    \"bagging_fraction\" : 0.999,\n",
    "#     'cat_l2':300,\n",
    "#     'cat_smooth':300,\n",
    "    'verbose': 5 ,\n",
    "    'min_split_gain': 1,  # minimum loss reduction required to make further partition on a leaf node of the tree\n",
    "    'min_child_samples': 1 # minimum number of data needed in a leaf\n",
    "}\n",
    "best_parameters"
   ]
  },
  {
   "cell_type": "code",
   "execution_count": 80,
   "metadata": {},
   "outputs": [
    {
     "name": "stderr",
     "output_type": "stream",
     "text": [
      "2021-08-10 00:17:50,029 [15485] WARNING  py.warnings:99: [JupyterRequire] /Users/yechiav.yitzchak/.pyenv/versions/3.7.1/lib/python3.7/site-packages/lightgbm/engine.py:151: UserWarning: Found `num_iterations` in params. Will use it instead of argument\n",
      "  warnings.warn(\"Found `{}` in params. Will use it instead of argument\".format(alias))\n",
      "\n"
     ]
    },
    {
     "name": "stdout",
     "output_type": "stream",
     "text": [
      "[LightGBM] [Info] Number of positive: 53442, number of negative: 46558\n",
      "[LightGBM] [Debug] Dataset::GetMultiBinFromAllFeatures: sparse rate 0.500885\n",
      "[LightGBM] [Debug] init for col-wise cost 0.000003 seconds, init for row-wise cost 0.002633 seconds\n",
      "[LightGBM] [Debug] col-wise cost 0.000275 seconds, row-wise cost 0.000251 seconds\n",
      "[LightGBM] [Warning] Auto-choosing row-wise multi-threading, the overhead of testing was 0.000530 seconds.\n",
      "You can set `force_row_wise=true` to remove the overhead.\n",
      "And if memory is not enough, you can set `force_col_wise=true`.\n",
      "[LightGBM] [Debug] Using Sparse Multi-Val Bin\n",
      "[LightGBM] [Info] Total Bins 6\n",
      "[LightGBM] [Info] Number of data points in the train set: 100000, number of used features: 2\n",
      "[LightGBM] [Info] [binary:BoostFromScore]: pavg=0.534420 -> initscore=0.137898\n",
      "[LightGBM] [Info] Start training from score 0.137898\n",
      "[LightGBM] [Debug] Re-bagging, using 99912 data to train\n",
      "[LightGBM] [Warning] No further splits with positive gain, best gain: -inf\n",
      "[LightGBM] [Debug] Trained a tree with leaves = 4 and max_depth = 2\n"
     ]
    }
   ],
   "source": [
    "evals_result={}\n",
    "model = lightgbm.train(best_parameters,\n",
    "                       train_data,\n",
    "#                        valid_sets=[train_data, test_data],\n",
    "                       evals_result=evals_result)"
   ]
  },
  {
   "cell_type": "code",
   "execution_count": 104,
   "metadata": {},
   "outputs": [],
   "source": [
    "# lightgbm.create_tree_digraph(model,show_info='data_percentage')"
   ]
  },
  {
   "cell_type": "code",
   "execution_count": 92,
   "metadata": {},
   "outputs": [
    {
     "data": {
      "image/svg+xml": [
       "<?xml version=\"1.0\" encoding=\"UTF-8\" standalone=\"no\"?>\n",
       "<!DOCTYPE svg PUBLIC \"-//W3C//DTD SVG 1.1//EN\"\n",
       " \"http://www.w3.org/Graphics/SVG/1.1/DTD/svg11.dtd\">\n",
       "<!-- Generated by graphviz version 2.44.1 (20200629.0846)\n",
       " -->\n",
       "<!-- Pages: 1 -->\n",
       "<svg width=\"353pt\" height=\"164pt\"\n",
       " viewBox=\"0.00 0.00 353.29 164.00\" xmlns=\"http://www.w3.org/2000/svg\" xmlns:xlink=\"http://www.w3.org/1999/xlink\">\n",
       "<g id=\"graph0\" class=\"graph\" transform=\"scale(1 1) rotate(0) translate(4 160)\">\n",
       "<polygon fill=\"white\" stroke=\"transparent\" points=\"-4,4 -4,-160 349.29,-160 349.29,4 -4,4\"/>\n",
       "<!-- split0 -->\n",
       "<g id=\"node1\" class=\"node\">\n",
       "<title>split0</title>\n",
       "<polygon fill=\"none\" stroke=\"black\" points=\"76,-96 0,-96 0,-60 76,-60 76,-96\"/>\n",
       "<text text-anchor=\"start\" x=\"8\" y=\"-75.3\" font-family=\"Times,serif\" font-weight=\"bold\" font-size=\"14.00\">Phone</text>\n",
       "<text text-anchor=\"start\" x=\"45\" y=\"-75.3\" font-family=\"Times,serif\" font-size=\"14.00\"> = </text>\n",
       "<text text-anchor=\"start\" x=\"61\" y=\"-75.3\" font-family=\"Times,serif\" font-weight=\"bold\" font-size=\"14.00\">1</text>\n",
       "</g>\n",
       "<!-- split2 -->\n",
       "<g id=\"node2\" class=\"node\">\n",
       "<title>split2</title>\n",
       "<polygon fill=\"none\" stroke=\"black\" points=\"186,-116 117,-116 117,-80 186,-80 186,-116\"/>\n",
       "<text text-anchor=\"start\" x=\"125\" y=\"-95.3\" font-family=\"Times,serif\" font-weight=\"bold\" font-size=\"14.00\">State</text>\n",
       "<text text-anchor=\"start\" x=\"155\" y=\"-95.3\" font-family=\"Times,serif\" font-size=\"14.00\"> = </text>\n",
       "<text text-anchor=\"start\" x=\"171\" y=\"-95.3\" font-family=\"Times,serif\" font-weight=\"bold\" font-size=\"14.00\">1</text>\n",
       "</g>\n",
       "<!-- split0&#45;&gt;split2 -->\n",
       "<g id=\"edge3\" class=\"edge\">\n",
       "<title>split0&#45;&gt;split2</title>\n",
       "<path fill=\"none\" stroke=\"black\" d=\"M76.13,-84.66C86.01,-86.43 96.78,-88.36 106.97,-90.19\"/>\n",
       "<polygon fill=\"black\" stroke=\"black\" points=\"106.45,-93.66 116.91,-91.98 107.69,-86.76 106.45,-93.66\"/>\n",
       "<text text-anchor=\"middle\" x=\"96.5\" y=\"-92.8\" font-family=\"Times,serif\" font-size=\"14.00\">yes</text>\n",
       "</g>\n",
       "<!-- split1 -->\n",
       "<g id=\"node5\" class=\"node\">\n",
       "<title>split1</title>\n",
       "<polygon fill=\"none\" stroke=\"black\" points=\"186,-76 117,-76 117,-40 186,-40 186,-76\"/>\n",
       "<text text-anchor=\"start\" x=\"125\" y=\"-55.3\" font-family=\"Times,serif\" font-weight=\"bold\" font-size=\"14.00\">State</text>\n",
       "<text text-anchor=\"start\" x=\"155\" y=\"-55.3\" font-family=\"Times,serif\" font-size=\"14.00\"> = </text>\n",
       "<text text-anchor=\"start\" x=\"171\" y=\"-55.3\" font-family=\"Times,serif\" font-weight=\"bold\" font-size=\"14.00\">1</text>\n",
       "</g>\n",
       "<!-- split0&#45;&gt;split1 -->\n",
       "<g id=\"edge6\" class=\"edge\">\n",
       "<title>split0&#45;&gt;split1</title>\n",
       "<path fill=\"none\" stroke=\"black\" d=\"M76.13,-71.34C86.01,-69.57 96.78,-67.64 106.97,-65.81\"/>\n",
       "<polygon fill=\"black\" stroke=\"black\" points=\"107.69,-69.24 116.91,-64.02 106.45,-62.34 107.69,-69.24\"/>\n",
       "<text text-anchor=\"middle\" x=\"96.5\" y=\"-72.8\" font-family=\"Times,serif\" font-size=\"14.00\">no</text>\n",
       "</g>\n",
       "<!-- leaf0 -->\n",
       "<g id=\"node3\" class=\"node\">\n",
       "<title>leaf0</title>\n",
       "<ellipse fill=\"none\" stroke=\"black\" cx=\"286.14\" cy=\"-138\" rx=\"59.29\" ry=\"18\"/>\n",
       "<text text-anchor=\"start\" x=\"248.64\" y=\"-135.3\" font-family=\"Times,serif\" font-size=\"14.00\">leaf 0: </text>\n",
       "<text text-anchor=\"start\" x=\"287.64\" y=\"-135.3\" font-family=\"Times,serif\" font-weight=\"bold\" font-size=\"14.00\">&#45;0.812</text>\n",
       "</g>\n",
       "<!-- split2&#45;&gt;leaf0 -->\n",
       "<g id=\"edge1\" class=\"edge\">\n",
       "<title>split2&#45;&gt;leaf0</title>\n",
       "<path fill=\"none\" stroke=\"black\" d=\"M186.42,-110.51C189.98,-111.73 193.55,-112.91 197,-114 207.65,-117.36 219.12,-120.69 230.14,-123.75\"/>\n",
       "<polygon fill=\"black\" stroke=\"black\" points=\"229.53,-127.21 240.1,-126.47 231.38,-120.46 229.53,-127.21\"/>\n",
       "<text text-anchor=\"middle\" x=\"206.5\" y=\"-122.8\" font-family=\"Times,serif\" font-size=\"14.00\">yes</text>\n",
       "</g>\n",
       "<!-- leaf3 -->\n",
       "<g id=\"node4\" class=\"node\">\n",
       "<title>leaf3</title>\n",
       "<ellipse fill=\"none\" stroke=\"black\" cx=\"286.14\" cy=\"-98\" rx=\"55.79\" ry=\"18\"/>\n",
       "<text text-anchor=\"start\" x=\"251.14\" y=\"-95.3\" font-family=\"Times,serif\" font-size=\"14.00\">leaf 3: </text>\n",
       "<text text-anchor=\"start\" x=\"290.14\" y=\"-95.3\" font-family=\"Times,serif\" font-weight=\"bold\" font-size=\"14.00\">1.389</text>\n",
       "</g>\n",
       "<!-- split2&#45;&gt;leaf3 -->\n",
       "<g id=\"edge2\" class=\"edge\">\n",
       "<title>split2&#45;&gt;leaf3</title>\n",
       "<path fill=\"none\" stroke=\"black\" d=\"M186.32,-98C196.59,-98 208.24,-98 219.85,-98\"/>\n",
       "<polygon fill=\"black\" stroke=\"black\" points=\"220,-101.5 230,-98 220,-94.5 220,-101.5\"/>\n",
       "<text text-anchor=\"middle\" x=\"206.5\" y=\"-101.8\" font-family=\"Times,serif\" font-size=\"14.00\">no</text>\n",
       "</g>\n",
       "<!-- leaf1 -->\n",
       "<g id=\"node6\" class=\"node\">\n",
       "<title>leaf1</title>\n",
       "<ellipse fill=\"none\" stroke=\"black\" cx=\"286.14\" cy=\"-58\" rx=\"55.79\" ry=\"18\"/>\n",
       "<text text-anchor=\"start\" x=\"251.14\" y=\"-55.3\" font-family=\"Times,serif\" font-size=\"14.00\">leaf 1: </text>\n",
       "<text text-anchor=\"start\" x=\"290.14\" y=\"-55.3\" font-family=\"Times,serif\" font-weight=\"bold\" font-size=\"14.00\">2.009</text>\n",
       "</g>\n",
       "<!-- split1&#45;&gt;leaf1 -->\n",
       "<g id=\"edge4\" class=\"edge\">\n",
       "<title>split1&#45;&gt;leaf1</title>\n",
       "<path fill=\"none\" stroke=\"black\" d=\"M186.32,-58C196.59,-58 208.24,-58 219.85,-58\"/>\n",
       "<polygon fill=\"black\" stroke=\"black\" points=\"220,-61.5 230,-58 220,-54.5 220,-61.5\"/>\n",
       "<text text-anchor=\"middle\" x=\"206.5\" y=\"-61.8\" font-family=\"Times,serif\" font-size=\"14.00\">yes</text>\n",
       "</g>\n",
       "<!-- leaf2 -->\n",
       "<g id=\"node7\" class=\"node\">\n",
       "<title>leaf2</title>\n",
       "<ellipse fill=\"none\" stroke=\"black\" cx=\"286.14\" cy=\"-18\" rx=\"59.29\" ry=\"18\"/>\n",
       "<text text-anchor=\"start\" x=\"248.64\" y=\"-15.3\" font-family=\"Times,serif\" font-size=\"14.00\">leaf 2: </text>\n",
       "<text text-anchor=\"start\" x=\"287.64\" y=\"-15.3\" font-family=\"Times,serif\" font-weight=\"bold\" font-size=\"14.00\">&#45;2.010</text>\n",
       "</g>\n",
       "<!-- split1&#45;&gt;leaf2 -->\n",
       "<g id=\"edge5\" class=\"edge\">\n",
       "<title>split1&#45;&gt;leaf2</title>\n",
       "<path fill=\"none\" stroke=\"black\" d=\"M186.42,-45.49C189.98,-44.27 193.55,-43.09 197,-42 207.65,-38.64 219.12,-35.31 230.14,-32.25\"/>\n",
       "<polygon fill=\"black\" stroke=\"black\" points=\"231.38,-35.54 240.1,-29.53 229.53,-28.79 231.38,-35.54\"/>\n",
       "<text text-anchor=\"middle\" x=\"206.5\" y=\"-45.8\" font-family=\"Times,serif\" font-size=\"14.00\">no</text>\n",
       "</g>\n",
       "</g>\n",
       "</svg>\n"
      ],
      "text/plain": [
       "<graphviz.dot.Digraph at 0x12a113128>"
      ]
     },
     "execution_count": 92,
     "metadata": {},
     "output_type": "execute_result"
    }
   ],
   "source": [
    "lightgbm.create_tree_digraph(model)"
   ]
  },
  {
   "cell_type": "code",
   "execution_count": 93,
   "metadata": {},
   "outputs": [],
   "source": [
    "X_train['prob'] = model.predict(X_train[['State','Phone']])"
   ]
  },
  {
   "cell_type": "code",
   "execution_count": 94,
   "metadata": {},
   "outputs": [],
   "source": [
    "X_train['label'] = df['label']"
   ]
  },
  {
   "cell_type": "code",
   "execution_count": 95,
   "metadata": {},
   "outputs": [
    {
     "data": {
      "text/html": [
       "<div>\n",
       "<style scoped>\n",
       "    .dataframe tbody tr th:only-of-type {\n",
       "        vertical-align: middle;\n",
       "    }\n",
       "\n",
       "    .dataframe tbody tr th {\n",
       "        vertical-align: top;\n",
       "    }\n",
       "\n",
       "    .dataframe thead tr th {\n",
       "        text-align: left;\n",
       "    }\n",
       "\n",
       "    .dataframe thead tr:last-of-type th {\n",
       "        text-align: right;\n",
       "    }\n",
       "</style>\n",
       "<table border=\"1\" class=\"dataframe\">\n",
       "  <thead>\n",
       "    <tr>\n",
       "      <th></th>\n",
       "      <th></th>\n",
       "      <th colspan=\"2\" halign=\"left\">prob</th>\n",
       "      <th colspan=\"2\" halign=\"left\">label</th>\n",
       "    </tr>\n",
       "    <tr>\n",
       "      <th></th>\n",
       "      <th></th>\n",
       "      <th>mean</th>\n",
       "      <th>count</th>\n",
       "      <th>mean</th>\n",
       "      <th>count</th>\n",
       "    </tr>\n",
       "    <tr>\n",
       "      <th>Phone</th>\n",
       "      <th>State</th>\n",
       "      <th></th>\n",
       "      <th></th>\n",
       "      <th></th>\n",
       "      <th></th>\n",
       "    </tr>\n",
       "  </thead>\n",
       "  <tbody>\n",
       "    <tr>\n",
       "      <th rowspan=\"2\" valign=\"top\">Android</th>\n",
       "      <th>NY</th>\n",
       "      <td>0.118161</td>\n",
       "      <td>8940</td>\n",
       "      <td>0.000000</td>\n",
       "      <td>8940</td>\n",
       "    </tr>\n",
       "    <tr>\n",
       "      <th>TX</th>\n",
       "      <td>0.881748</td>\n",
       "      <td>20970</td>\n",
       "      <td>1.000000</td>\n",
       "      <td>20970</td>\n",
       "    </tr>\n",
       "    <tr>\n",
       "      <th rowspan=\"2\" valign=\"top\">Ios</th>\n",
       "      <th>NY</th>\n",
       "      <td>0.800496</td>\n",
       "      <td>21147</td>\n",
       "      <td>0.845841</td>\n",
       "      <td>21147</td>\n",
       "    </tr>\n",
       "    <tr>\n",
       "      <th>TX</th>\n",
       "      <td>0.307391</td>\n",
       "      <td>48943</td>\n",
       "      <td>0.298000</td>\n",
       "      <td>48943</td>\n",
       "    </tr>\n",
       "  </tbody>\n",
       "</table>\n",
       "</div>"
      ],
      "text/plain": [
       "                   prob            label       \n",
       "                   mean  count      mean  count\n",
       "Phone   State                                  \n",
       "Android NY     0.118161   8940  0.000000   8940\n",
       "        TX     0.881748  20970  1.000000  20970\n",
       "Ios     NY     0.800496  21147  0.845841  21147\n",
       "        TX     0.307391  48943  0.298000  48943"
      ]
     },
     "execution_count": 95,
     "metadata": {},
     "output_type": "execute_result"
    }
   ],
   "source": [
    "X_train.groupby(['Phone','State']).agg(['mean','count'])"
   ]
  },
  {
   "cell_type": "code",
   "execution_count": null,
   "metadata": {},
   "outputs": [],
   "source": []
  },
  {
   "cell_type": "code",
   "execution_count": null,
   "metadata": {},
   "outputs": [],
   "source": []
  },
  {
   "cell_type": "code",
   "execution_count": null,
   "metadata": {},
   "outputs": [],
   "source": []
  },
  {
   "cell_type": "code",
   "execution_count": null,
   "metadata": {},
   "outputs": [],
   "source": []
  },
  {
   "cell_type": "code",
   "execution_count": null,
   "metadata": {},
   "outputs": [],
   "source": []
  }
 ],
 "metadata": {
  "kernelspec": {
   "display_name": "Python (pyenv)",
   "language": "python",
   "name": "pyenv_python"
  },
  "language_info": {
   "codemirror_mode": {
    "name": "ipython",
    "version": 3
   },
   "file_extension": ".py",
   "mimetype": "text/x-python",
   "name": "python",
   "nbconvert_exporter": "python",
   "pygments_lexer": "ipython3",
   "version": "3.7.1"
  }
 },
 "nbformat": 4,
 "nbformat_minor": 4
}
